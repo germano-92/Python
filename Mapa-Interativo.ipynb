{
 "cells": [
  {
   "cell_type": "code",
   "execution_count": 1,
   "id": "b0c6eaf8",
   "metadata": {},
   "outputs": [],
   "source": [
    "# Referência: https://www.geeksforgeeks.org/python-similarity-metrics-of-strings/\n",
    "from difflib import SequenceMatcher\n",
    "\n",
    "def similar(str1, sequencia):\n",
    "    # str1 = cidade a ser procurada\n",
    "    # sequencia = conjunto de nomes que serão usados para ver qual mais se aproxima\n",
    "    maior =  0\n",
    "    # Para economizar processamento, avalia apenas os que começam com a mesma letra,\n",
    "    # considerando que o erro de grafia não esteja justamente na letra inicial\n",
    "    mesma_letra = [g for g in sequencia if g.startswith(str1[0])]\n",
    "    for i in mesma_letra:\n",
    "        corr = SequenceMatcher(None, str1, i).ratio()\n",
    "        # Ignora os que têm menos de 60% de correlação\n",
    "        # Registra qual nome de cidade mais se aparenta ao que procuramos\n",
    "        if corr > 0.6 and corr > maior:\n",
    "            maior = corr\n",
    "            result = i\n",
    "    return result"
   ]
  },
  {
   "cell_type": "code",
   "execution_count": 2,
   "id": "a023cb3f",
   "metadata": {},
   "outputs": [],
   "source": [
    "from requests import get\n",
    "from pandas import read_csv\n",
    "# Importa as coordenadas poligonais para preencher o mapa com os municípios\n",
    "response = get('https://raw.githubusercontent.com/jonates/opendata/master/arquivos_geoespaciais/geojs-100-mun.json')\n",
    "geo_uf = response.json()\n",
    "# Pega do arquivo CSV apenas as informações que serão usadas\n",
    "df = read_csv(\"municipios.csv\", usecols=[\"municipio\",\"mesoregion\",\"name\",\"pop_21\", \"uf_code\"])\n",
    "# Reduz o dataframe para o estado que queremos\n",
    "df = df.query(\"uf_code == 'MG'\")\n",
    "geo_uf['features'] = [f for f in geo_uf['features'] if f[\"properties\"][\"id\"] in str(df[\"municipio\"].values)]\n",
    "# Pega os nomes nas coordenadas que não contêm na relação de cidades/população do CSV\n",
    "faltam = [f[\"properties\"][\"name\"] for f in geo_uf['features'] if f[\"properties\"][\"name\"] not in str(df[\"name\"].values)]\n",
    "# Pega os nomes das cidades mais parecidas no arquivo CSV e substitui para fechar a ligação que pegará as coordenadas\n",
    "for f in faltam:\n",
    "        df.at[df.loc[df[\"name\"] == similar(f,df[\"name\"])].index[0],\"name\"] = f"
   ]
  },
  {
   "cell_type": "code",
   "execution_count": 3,
   "id": "ecb11bac",
   "metadata": {},
   "outputs": [],
   "source": [
    "# from json import dump\n",
    "# with open('coordenadas.json', 'w') as f:\n",
    "#    # write the dictionary to the file in JSON format\n",
    "#    dump(geo_uf, f)"
   ]
  },
  {
   "cell_type": "code",
   "execution_count": 4,
   "id": "a8b25f5e",
   "metadata": {},
   "outputs": [],
   "source": [
    "# from json import load\n",
    "# with open(\"coordenadas.json\", 'r') as file:\n",
    "#    # Load JSON data into a dictionary\n",
    "#    geo_uf = load(file)"
   ]
  },
  {
   "cell_type": "code",
   "execution_count": 5,
   "id": "43144459",
   "metadata": {},
   "outputs": [],
   "source": [
    "# Referência: https://www.flai.com.br/jonatas/4-bibliotecas-para-mapas-no-python-altair-bokehfolium-e-plotly/\n",
    "def exibe_mapa (regiao):  \n",
    "    # Limpa a saída para não termos vários mapas seguidos\n",
    "    clear_output(wait=True)    \n",
    "    # Criando o mapa\n",
    "    mapa = choropleth_mapbox(\n",
    "        data_frame = df.query(\"mesoregion == @regiao\"),\n",
    "        geojson = geo_uf, \n",
    "        locations='name', \n",
    "        featureidkey='properties.name',\n",
    "        color='pop_21',\n",
    "        color_continuous_scale= 'YlOrRd',\n",
    "        mapbox_style='carto-positron',\n",
    "        center = {\"lat\": -18.4038, \"lon\": -44.4588},\n",
    "        opacity=1,\n",
    "        width = 1000,\n",
    "        zoom=5.5,\n",
    "        height = 800,\n",
    "        hover_data={'pop_21':':.', 'name':False},\n",
    "        hover_name='name',\n",
    "        labels={'pop_21':'População (2021)'}\n",
    "        )    \n",
    "    # Ajustando as margens\n",
    "    mapa.update_layout(margin={'r':0,'t':0,'l':0, 'b':0})\n",
    "\n",
    "    # Reduzindo a largura das bordas dos municípios\n",
    "    mapa.update_traces(marker_line_width=0.01)\n",
    "\n",
    "    # Exibindo o mapa\n",
    "    mapa.show()"
   ]
  },
  {
   "cell_type": "code",
   "execution_count": 6,
   "id": "0cd407cd",
   "metadata": {},
   "outputs": [],
   "source": [
    "# Pegar dados de API do IBGE para comporem o menu para exibição do mapa por região\n",
    "api = get(\"https://servicodados.ibge.gov.br/api/v1/localidades/estados/mg/municipios\")\n",
    "from pandas import json_normalize\n",
    "cabecalho = json_normalize(api.json())[[\"nome\",\"microrregiao.mesorregiao.nome\",\"microrregiao.mesorregiao.id\"]]\n",
    "cabecalho.rename(columns={\"microrregiao.mesorregiao.nome\": \"Mesorregião\",\"nome\": \"Nome\", \"microrregiao.mesorregiao.id\": \"ID\"}, inplace=True)"
   ]
  },
  {
   "cell_type": "code",
   "execution_count": 7,
   "id": "17565b52",
   "metadata": {},
   "outputs": [],
   "source": [
    "# Preparar parâmetros para definir as opções nos radio buttons da telinha\n",
    "# Cada um deve seguir o formato: (\"texto\", numero)\n",
    "regioes = []\n",
    "for i in cabecalho[\"Mesorregião\"].sort_values(ascending=True).unique():\n",
    "    regioes.append((i + \" (\" + str(len(cabecalho[cabecalho[\"Mesorregião\"] == i]))+\")\", int(cabecalho[cabecalho[\"Mesorregião\"] == i][\"ID\"].unique())))"
   ]
  },
  {
   "cell_type": "code",
   "execution_count": 8,
   "id": "94dc22ae",
   "metadata": {},
   "outputs": [],
   "source": [
    "# Referência: https://python-course.eu/tkinter/radio-buttons-in-tkinter.php\n",
    "from tkinter import *\n",
    "from IPython.display import clear_output    \n",
    "from plotly.express import choropleth_mapbox\n",
    "root = Tk()\n",
    "root.title(\"Germano\")\n",
    "root.resizable(0,0)\n",
    "v = IntVar()\n",
    "# Conjunto de opções do menu\n",
    "tRegioes = tuple(regioes)\n",
    "\n",
    "def ShowChoice():\n",
    "    exibe_mapa(v.get())\n",
    "Label(root, \n",
    "         text=\"Escolha a região:\",\n",
    "         justify = LEFT,\n",
    "         padx = 20).pack()\n",
    "\n",
    "# Gera cada uma das opções do menu\n",
    "for regiao, val in tRegioes:\n",
    "    Radiobutton(root, \n",
    "                   text=regiao,\n",
    "                   padx = 20, \n",
    "                   variable=v, \n",
    "                   command=ShowChoice,\n",
    "                   value=val).pack(anchor=W)\n",
    "\n",
    "\n",
    "root.mainloop()"
   ]
  }
 ],
 "metadata": {
  "kernelspec": {
   "display_name": "Python 3 (ipykernel)",
   "language": "python",
   "name": "python3"
  },
  "language_info": {
   "codemirror_mode": {
    "name": "ipython",
    "version": 3
   },
   "file_extension": ".py",
   "mimetype": "text/x-python",
   "name": "python",
   "nbconvert_exporter": "python",
   "pygments_lexer": "ipython3",
   "version": "3.11.5"
  }
 },
 "nbformat": 4,
 "nbformat_minor": 5
}
