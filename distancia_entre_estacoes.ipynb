{
 "cells": [
  {
   "cell_type": "code",
   "execution_count": null,
   "id": "600a3f0d",
   "metadata": {},
   "outputs": [],
   "source": [
    "%%time\n",
    "from json import load\n",
    "# Dicionário com os dicionários das linhas. Vamos usá-lo para iteração\n",
    "with open('/content/stations.json', 'r') as f:\n",
    "    linhas = load(f)\n",
    "\n",
    "# Lista com o texto final\n",
    "lista = [3*\"\\t\"+\"DISTÂNCIA APROXIMADA ENTRE AS ESTAÇÕES (EM RETA)\\n\"]\n",
    "from math import floor\n",
    "# Função para calcular distância\n",
    "from haversine import Unit, haversine\n",
    "# Rodando linha por linha\n",
    "for nome_linha, linha in linhas.items():\n",
    "  ''' Dataframe para compôr os conteúdos\n",
    "  df = DataFrame({\n",
    "    'Estação':[],\n",
    "    'Próxima': [],\n",
    "    'Metros': []})'''\n",
    "  # Variáveis de controle para quando for a primeira iteração, pular para a\n",
    "  # próxima, já que não tem estação anterior para computar a distância\n",
    "  estacao_anterior = coordenada_anterior = None\n",
    "  # Cabeçalho\n",
    "  lista.append(100*\"-\"+\"\\n\"+5*\"\\t\"+nome_linha+\"\\n\")\n",
    "  # Iterar estação por estação\n",
    "  for estacao_atual, coordenada_atual in linha.items():\n",
    "      # Caso seja da segunda em diante\n",
    "      if estacao_anterior is not None:\n",
    "          # Calcula a distância\n",
    "          distancia = floor(haversine(coordenada_anterior, coordenada_atual, unit=Unit.METERS))\n",
    "          # Formata para exibição com separador de milhar. Ex: 1.234\n",
    "          distancia_formatada = f\"{distancia:,}\".replace(',', '.')\n",
    "          # Inclui a distância da iteração atual no que será o texto final\n",
    "          lista.append(f\"{estacao_anterior} e {estacao_atual}: {distancia_formatada} m\\n\")\n",
    "      # Atualiza as variáveis para a próxima iteração, caso seja a primeira\n",
    "      # rodada\n",
    "      estacao_anterior = estacao_atual\n",
    "      coordenada_anterior = coordenada_atual\n",
    "# Imprime a listagem de todas as linhas\n",
    "print(''.join(lista))"
   ]
  }
 ],
 "metadata": {
  "kernelspec": {
   "display_name": "Python 3 (ipykernel)",
   "language": "python",
   "name": "python3"
  },
  "language_info": {
   "codemirror_mode": {
    "name": "ipython",
    "version": 3
   },
   "file_extension": ".py",
   "mimetype": "text/x-python",
   "name": "python",
   "nbconvert_exporter": "python",
   "pygments_lexer": "ipython3",
   "version": "3.11.5"
  }
 },
 "nbformat": 4,
 "nbformat_minor": 5
}
