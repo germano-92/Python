{
 "cells": [
  {
   "cell_type": "code",
   "execution_count": null,
   "id": "da2d34e5",
   "metadata": {},
   "outputs": [],
   "source": [
    "# Variáveis usadas pra formatação\n",
    "tab = 4 * '\\t'\n",
    "newline = 2 * '\\n'\n",
    "# Composição do texto final (resultado)\n",
    "final= [f\"{tab}GUIA DE EPISÓDIOS - PROGRAMA CHESPIRITO{newline}\"]\n",
    "# Dicionário com as séries usadas no web scrapping\n",
    "quadros = {3: \"LOS CAQUITOS\", 4: \"DOCTOR CHAPATÍN\", 5:\"LOS CHIFLADITOS\", 8: \"DON CALAVERA\", 1: \"EL CHAVO DEL OCHO\", 2: \"EL CHAPULÍN COLORADO\"}\n",
    "# Ordenando-os por ordem alfabética\n",
    "quadros_ordenados = dict(sorted(quadros.items(), key=lambda item: item[1]))\n",
    "# Usar sessão economiza criação de sessões ao invés de fazer get\n",
    "from requests import Session\n",
    "session = Session()\n",
    "# Recurso do web scrapping\n",
    "from bs4 import BeautifulSoup\n",
    "# Iterar sobre as séries\n",
    "for key, value in quadros_ordenados.items():\n",
    "  # Variáveis para computar quantidade de episódios\n",
    "    total = quantidade = 0\n",
    "    # Iterar sobre os anos em que estão disponíveis as informações\n",
    "    for ano in range(1980, 1996):\n",
    "        # Cada série para cada ano tem um formato de link diferente\n",
    "        url = f\"https://www.forumchaves.com.br/listach/site/lista.php?serie=3&temporada={ano}&idioma=es&filtro_status_Televisa=t&filtro_status_Brasil=t&ordem=a&filtro_personagens={key}&formato_numeracao=n\"\n",
    "        # Usando session para otimizar as requisições\n",
    "        html = session.get(url).content\n",
    "        # LXML agiliza o processo\n",
    "        soup = BeautifulSoup(html, 'lxml')\n",
    "        # Armazena os nomes dos episódios\n",
    "        imgs = soup.find_all(\"img\", attrs={\"alt\": True})\n",
    "        # Se a série no ano em questão não tem nada, o código já evita o resto\n",
    "        # do processamento\n",
    "        if not imgs:\n",
    "            continue\n",
    "        # Ordena os episódios em ordem alfabética\n",
    "        vetor = sorted(img[\"alt\"] for img in imgs)\n",
    "        # Cria um cabeçalho no formato Série (ano)\n",
    "        final.append(f\"{tab}{value} ({ano}){newline}\")\n",
    "        # Inclui no texto final\n",
    "        final.append('\\n'.join(vetor))\n",
    "        quantidade = len(vetor)\n",
    "        # Traz a quantidade de episódios da série no ano\n",
    "        final.append(f\"\\n{quantidade} EPISÓDIOS{newline}\")\n",
    "        # Calcula o total da série como um todo (todos os anos)\n",
    "        total += quantidade\n",
    "    # Traz o total de episódios da série toda\n",
    "    final.append(f\"TOTAL {value}: {total}{newline}\")\n",
    "final.append(\"Escrito por Germano\")\n",
    "# Exibe o resultado de tudo que foi processado\n",
    "print(\"\".join(final))"
   ]
  }
 ],
 "metadata": {
  "kernelspec": {
   "display_name": "Python 3 (ipykernel)",
   "language": "python",
   "name": "python3"
  },
  "language_info": {
   "codemirror_mode": {
    "name": "ipython",
    "version": 3
   },
   "file_extension": ".py",
   "mimetype": "text/x-python",
   "name": "python",
   "nbconvert_exporter": "python",
   "pygments_lexer": "ipython3",
   "version": "3.11.5"
  }
 },
 "nbformat": 4,
 "nbformat_minor": 5
}
